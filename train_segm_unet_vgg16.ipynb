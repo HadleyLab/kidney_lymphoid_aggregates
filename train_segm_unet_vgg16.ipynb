{
 "cells": [
  {
   "cell_type": "code",
   "execution_count": 2,
   "metadata": {},
   "outputs": [
    {
     "name": "stderr",
     "output_type": "stream",
     "text": [
      "Using TensorFlow backend.\n"
     ]
    }
   ],
   "source": [
    "import numpy as np\n",
    "import pandas as pd\n",
    "import keras\n",
    "from keras import optimizers\n",
    "import re\n",
    "from warnings import warn\n",
    "from unet import construct_unet\n",
    "import os\n",
    "os.environ['CUDA_VISIBLE_DEVICES'] = '2'\n",
    "%load_ext autoreload\n",
    "%autoreload 2"
   ]
  },
  {
   "cell_type": "code",
   "execution_count": 2,
   "metadata": {},
   "outputs": [],
   "source": [
    "# !curl -O https://raw.githubusercontent.com/DSLituiev/cardioloader/master/unet.py"
   ]
  },
  {
   "cell_type": "code",
   "execution_count": 3,
   "metadata": {},
   "outputs": [],
   "source": [
    "import matplotlib.pyplot as plt\n",
    "%matplotlib inline"
   ]
  },
  {
   "cell_type": "code",
   "execution_count": 4,
   "metadata": {},
   "outputs": [],
   "source": [
    "\n",
    "fn_meta = '/data/kidney/tables/splits-2019-03-24.csv'\n",
    "meta = pd.read_csv(fn_meta, index_col=0)['set']\n",
    "name = ''\n",
    "roi_unique_labels = []\n",
    "########################################\n",
    "# fix here\n",
    "########################################\n",
    "slide_ids = {}\n",
    "for kk in ['train', 'val', 'test']:\n",
    "    slide_ids[kk] = meta[meta==kk].index.tolist()\n"
   ]
  },
  {
   "cell_type": "code",
   "execution_count": 5,
   "metadata": {},
   "outputs": [
    {
     "name": "stdout",
     "output_type": "stream",
     "text": [
      "07272cf63c51cf065e5d7117d2a085491a9dfe9c-x2343-y23969-t1+29-r105-tissue+lymph_agg.json\r\n",
      "07272cf63c51cf065e5d7117d2a085491a9dfe9c-x2343-y23969-t1+29-r105-tissue+lymph_agg.png\r\n",
      "07272cf63c51cf065e5d7117d2a085491a9dfe9c-x2343-y24993-t1+29-r114-tissue+lymph_agg.json\r\n",
      "07272cf63c51cf065e5d7117d2a085491a9dfe9c-x2343-y24993-t1+29-r114-tissue+lymph_agg.png\r\n",
      "07272cf63c51cf065e5d7117d2a085491a9dfe9c-x2343-y26017-t1+19+29-r121-tissue+glom+lymph_agg.json\r\n",
      "07272cf63c51cf065e5d7117d2a085491a9dfe9c-x2343-y26017-t1+19+29-r121-tissue+glom+lymph_agg.png\r\n",
      "09eb9369342c45a23a3b52408eaabfe55ded9c7a-x16654-y11395-t2+36-r55-tissue+lymph_agg.json\r\n",
      "09eb9369342c45a23a3b52408eaabfe55ded9c7a-x16654-y11395-t2+36-r55-tissue+lymph_agg.png\r\n",
      "09eb9369342c45a23a3b52408eaabfe55ded9c7a-x36001-y11392-t34+9-r14-tissue+lymph_agg.json\r\n",
      "09eb9369342c45a23a3b52408eaabfe55ded9c7a-x36001-y11392-t34+9-r14-tissue+lymph_agg.png\r\n",
      "ls: write error: Broken pipe\r\n"
     ]
    }
   ],
   "source": [
    "!ls /data/kidney/data/lymphoid_agg/newdata/data_1024/la_split/train/lymph | head"
   ]
  },
  {
   "cell_type": "code",
   "execution_count": null,
   "metadata": {},
   "outputs": [],
   "source": []
  },
  {
   "cell_type": "code",
   "execution_count": 6,
   "metadata": {},
   "outputs": [],
   "source": [
    "from generators import PngDir, JsonDir, SegmSet, np_collate\n",
    "from torch.utils.data import Dataset, DataLoader"
   ]
  },
  {
   "cell_type": "code",
   "execution_count": null,
   "metadata": {},
   "outputs": [],
   "source": []
  },
  {
   "cell_type": "code",
   "execution_count": 7,
   "metadata": {},
   "outputs": [
    {
     "data": {
      "text/plain": [
       "('07272cf63c51cf065e5d7117d2a085491a9dfe9c', '2343', '23969')"
      ]
     },
     "execution_count": 7,
     "metadata": {},
     "output_type": "execute_result"
    }
   ],
   "source": [
    "fn_dcm = '07272cf63c51cf065e5d7117d2a085491a9dfe9c-x2343-y23969-t1+29-r105-tissue+lymph_agg.png'\n",
    "# fn_dcm = '07272cf63c51cf065e5d7117d2a085491a9dfe9c-x2343-y23969-.png'\n",
    "matches = re.match('([\\da-f]+)-x([\\d]+)-y([\\d]+)-.*\\.png', fn_dcm)\n",
    "matches.groups()"
   ]
  },
  {
   "cell_type": "code",
   "execution_count": 66,
   "metadata": {},
   "outputs": [
    {
     "name": "stderr",
     "output_type": "stream",
     "text": [
      "/home/exx/.conda/envs/digipath/lib/python3.7/site-packages/ipykernel_launcher.py:13: FutureWarning: Sorting because non-concatenation axis is not aligned. A future version\n",
      "of pandas will change to not sort by default.\n",
      "\n",
      "To accept the future behavior, pass 'sort=False'.\n",
      "\n",
      "To retain the current behavior and silence the warning, pass 'sort=True'.\n",
      "\n",
      "  del sys.path[0]\n"
     ]
    }
   ],
   "source": [
    "batch_size = 8\n",
    "num_workers = 4\n",
    "\n",
    "dfs = {}\n",
    "segmsets = {}\n",
    "dloaders = {}\n",
    "for set_ in ['train', 'val', 'test']:\n",
    "    dfs[set_] = {}\n",
    "    for label in ['norm', 'lymph']:\n",
    "        dirname = f'/data/kidney/data/lymphoid_agg/newdata/data_1024/la_split/{set_}/{label}'\n",
    "        pngdir = PngDir(dirname, verbose=False)\n",
    "        jsondir = JsonDir(dirname, verbose=False)\n",
    "        dfs[set_][label] = pd.concat([pngdir.content, jsondir.content], axis=1)\n",
    "        dfs[set_][label].index.names = ['slide_id', 'x', 'y']\n",
    "        \n",
    "    segmsets[set_] = SegmSet(dfs[set_]['lymph'], shape=(256,256))\n",
    "    dloaders[set_] = DataLoader(segmsets[set_], collate_fn=np_collate,\n",
    "                                num_workers=num_workers,\n",
    "                                batch_size=batch_size,\n",
    "                                shuffle=(set_=='train'))"
   ]
  },
  {
   "cell_type": "code",
   "execution_count": 10,
   "metadata": {},
   "outputs": [],
   "source": [
    "# import json\n",
    "# from pycocotools.mask import decode\n",
    "\n",
    "# def tissue_name_positive(x):\n",
    "#     return ('lymph' in x) or ('infl' in x)\n",
    "\n",
    "# fnjson = dloaders['val'].dataset.filenames.iloc[0]['json']\n",
    "# with open(fnjson) as fh:\n",
    "#     rois = json.load(fh)\n",
    "\n",
    "# any([decode(rr) for rr in rois if tissue_name_positive(rr['name'])])\n",
    "# segmsets[set_][0]"
   ]
  },
  {
   "cell_type": "code",
   "execution_count": 28,
   "metadata": {},
   "outputs": [],
   "source": [
    "import imgaug.augmenters as iaa\n",
    "import imgaug as ia\n",
    "# iaa.seed(2)\n",
    "\n",
    "seq = iaa.Sequential([\n",
    "#     iaa.CoarseDropout(0.1, size_percent=0.2),\n",
    "    iaa.ElasticTransformation(alpha=10, sigma=1),\n",
    "    iaa.Affine(\n",
    "            scale=1.2,\n",
    "            translate_percent=(5),\n",
    "            translate_px=None,\n",
    "            rotate=(-30, 30),\n",
    "            shear=(5.0),\n",
    "            cval = 250,\n",
    "        ),\n",
    "     iaa.Sometimes(0.3, iaa.AddToHueAndSaturation((-15, 15))),\n",
    "     iaa.Sometimes(0.3, iaa.GaussianBlur(sigma=(0.0, 3.0))),\n",
    "])"
   ]
  },
  {
   "cell_type": "code",
   "execution_count": null,
   "metadata": {},
   "outputs": [],
   "source": []
  },
  {
   "cell_type": "code",
   "execution_count": 21,
   "metadata": {},
   "outputs": [
    {
     "data": {
      "text/plain": [
       "png     /data/kidney/data/lymphoid_agg/newdata/data_10...\n",
       "json    /data/kidney/data/lymphoid_agg/newdata/data_10...\n",
       "Name: (07272cf63c51cf065e5d7117d2a085491a9dfe9c, 2343, 23969), dtype: object"
      ]
     },
     "execution_count": 21,
     "metadata": {},
     "output_type": "execute_result"
    }
   ],
   "source": [
    "dfs['train']['lymph'].iloc[0]"
   ]
  },
  {
   "cell_type": "code",
   "execution_count": 13,
   "metadata": {},
   "outputs": [],
   "source": [
    "# sample = SegmSet.parse_sample(dfs['train']['lymph'].iloc[0], \n",
    "#                               positive=False,\n",
    "#                              )"
   ]
  },
  {
   "cell_type": "code",
   "execution_count": 23,
   "metadata": {},
   "outputs": [],
   "source": [
    "def data_gen(x, augment=False):\n",
    "    while True:\n",
    "        for sample in x:\n",
    "            #sample['image'], sample['mask'][...,np.newaxis]\n",
    "            if augment:\n",
    "                bg = seq(images=sample['image'],#.astype(np.float16), \n",
    "                         segmentation_maps=sample['mask'],\n",
    "                        return_batch=True,\n",
    "                    )\n",
    "                yield bg.images_aug, bg.segmentation_maps_aug[..., np.newaxis].astype(np.float32)\n",
    "            else:\n",
    "                yield (keras.applications.vgg16.preprocess_input(sample['image']),\n",
    "                        sample['mask'][..., np.newaxis].astype(np.float32))"
   ]
  },
  {
   "cell_type": "code",
   "execution_count": 26,
   "metadata": {},
   "outputs": [],
   "source": [
    "for img, msk in data_gen(dloaders['val']):\n",
    "    break\n",
    "# batch"
   ]
  },
  {
   "cell_type": "code",
   "execution_count": 27,
   "metadata": {},
   "outputs": [
    {
     "name": "stderr",
     "output_type": "stream",
     "text": [
      "Clipping input data to the valid range for imshow with RGB data ([0..1] for floats or [0..255] for integers).\n"
     ]
    },
    {
     "data": {
      "text/plain": [
       "<matplotlib.image.AxesImage at 0x7fe99c355e80>"
      ]
     },
     "execution_count": 27,
     "metadata": {},
     "output_type": "execute_result"
    },
    {
     "data": {
      "image/png": "[encoded data removed]",
      "text/plain": [
       "<Figure size 432x288 with 1 Axes>"
      ]
     },
     "metadata": {
      "needs_background": "light"
     },
     "output_type": "display_data"
    }
   ],
   "source": [
    "plt.imshow(img[4])\n",
    "# plt.imshow(msk[2,...,0])"
   ]
  },
  {
   "cell_type": "code",
   "execution_count": 17,
   "metadata": {},
   "outputs": [],
   "source": [
    "# plt.imshow(dloaders['val'].dataset[4]['image'])"
   ]
  },
  {
   "cell_type": "code",
   "execution_count": 18,
   "metadata": {},
   "outputs": [
    {
     "data": {
      "text/plain": [
       "(8, 256, 256, 3)"
      ]
     },
     "execution_count": 18,
     "metadata": {},
     "output_type": "execute_result"
    }
   ],
   "source": [
    "img.shape"
   ]
  },
  {
   "cell_type": "code",
   "execution_count": 5,
   "metadata": {},
   "outputs": [
    {
     "name": "stdout",
     "output_type": "stream",
     "text": [
      "WARNING:tensorflow:From /home/exx/.conda/envs/digipath/lib/python3.7/site-packages/tensorflow/python/framework/op_def_library.py:263: colocate_with (from tensorflow.python.framework.ops) is deprecated and will be removed in a future version.\n",
      "Instructions for updating:\n",
      "Colocations handled automatically by placer.\n"
     ]
    }
   ],
   "source": [
    "width, height = 256, 256\n",
    "unet = construct_unet(width, height, encoder = 'vgg16', freeze_encoder=True)"
   ]
  },
  {
   "cell_type": "code",
   "execution_count": 6,
   "metadata": {},
   "outputs": [
    {
     "name": "stdout",
     "output_type": "stream",
     "text": [
      "__________________________________________________________________________________________________\n",
      "Layer (type)                    Output Shape         Param #     Connected to                     \n",
      "==================================================================================================\n",
      "input_1 (InputLayer)            (None, 256, 256, 3)  0                                            \n",
      "__________________________________________________________________________________________________\n",
      "block1_conv1 (Conv2D)           (None, 256, 256, 64) 1792        input_1[0][0]                    \n",
      "__________________________________________________________________________________________________\n",
      "block1_conv2 (Conv2D)           (None, 256, 256, 64) 36928       block1_conv1[0][0]               \n",
      "__________________________________________________________________________________________________\n",
      "block1_pool (MaxPooling2D)      (None, 128, 128, 64) 0           block1_conv2[0][0]               \n",
      "__________________________________________________________________________________________________\n",
      "block2_conv1 (Conv2D)           (None, 128, 128, 128 73856       block1_pool[0][0]                \n",
      "__________________________________________________________________________________________________\n",
      "block2_conv2 (Conv2D)           (None, 128, 128, 128 147584      block2_conv1[0][0]               \n",
      "__________________________________________________________________________________________________\n",
      "block2_pool (MaxPooling2D)      (None, 64, 64, 128)  0           block2_conv2[0][0]               \n",
      "__________________________________________________________________________________________________\n",
      "block3_conv1 (Conv2D)           (None, 64, 64, 256)  295168      block2_pool[0][0]                \n",
      "__________________________________________________________________________________________________\n",
      "block3_conv2 (Conv2D)           (None, 64, 64, 256)  590080      block3_conv1[0][0]               \n",
      "__________________________________________________________________________________________________\n",
      "block3_conv3 (Conv2D)           (None, 64, 64, 256)  590080      block3_conv2[0][0]               \n",
      "__________________________________________________________________________________________________\n",
      "block3_pool (MaxPooling2D)      (None, 32, 32, 256)  0           block3_conv3[0][0]               \n",
      "__________________________________________________________________________________________________\n",
      "block4_conv1 (Conv2D)           (None, 32, 32, 512)  1180160     block3_pool[0][0]                \n",
      "__________________________________________________________________________________________________\n",
      "block4_conv2 (Conv2D)           (None, 32, 32, 512)  2359808     block4_conv1[0][0]               \n",
      "__________________________________________________________________________________________________\n",
      "block4_conv3 (Conv2D)           (None, 32, 32, 512)  2359808     block4_conv2[0][0]               \n",
      "__________________________________________________________________________________________________\n",
      "block4_pool (MaxPooling2D)      (None, 16, 16, 512)  0           block4_conv3[0][0]               \n",
      "__________________________________________________________________________________________________\n",
      "up_sampling2d_1 (UpSampling2D)  (None, 32, 32, 512)  0           block4_pool[0][0]                \n",
      "__________________________________________________________________________________________________\n",
      "concatenate_1 (Concatenate)     (None, 32, 32, 768)  0           up_sampling2d_1[0][0]            \n",
      "                                                                 block3_pool[0][0]                \n",
      "__________________________________________________________________________________________________\n",
      "conv2d_1 (Conv2D)               (None, 32, 32, 512)  3539456     concatenate_1[0][0]              \n",
      "__________________________________________________________________________________________________\n",
      "batch_normalization_1 (BatchNor (None, 32, 32, 512)  2048        conv2d_1[0][0]                   \n",
      "__________________________________________________________________________________________________\n",
      "activation_1 (Activation)       (None, 32, 32, 512)  0           batch_normalization_1[0][0]      \n",
      "__________________________________________________________________________________________________\n",
      "conv2d_2 (Conv2D)               (None, 32, 32, 256)  1179904     activation_1[0][0]               \n",
      "__________________________________________________________________________________________________\n",
      "batch_normalization_2 (BatchNor (None, 32, 32, 256)  1024        conv2d_2[0][0]                   \n",
      "__________________________________________________________________________________________________\n",
      "activation_2 (Activation)       (None, 32, 32, 256)  0           batch_normalization_2[0][0]      \n",
      "__________________________________________________________________________________________________\n",
      "up_sampling2d_2 (UpSampling2D)  (None, 64, 64, 256)  0           activation_2[0][0]               \n",
      "__________________________________________________________________________________________________\n",
      "concatenate_2 (Concatenate)     (None, 64, 64, 384)  0           up_sampling2d_2[0][0]            \n",
      "                                                                 block2_pool[0][0]                \n",
      "__________________________________________________________________________________________________\n",
      "conv2d_3 (Conv2D)               (None, 64, 64, 384)  1327488     concatenate_2[0][0]              \n",
      "__________________________________________________________________________________________________\n",
      "batch_normalization_3 (BatchNor (None, 64, 64, 384)  1536        conv2d_3[0][0]                   \n",
      "__________________________________________________________________________________________________\n",
      "activation_3 (Activation)       (None, 64, 64, 384)  0           batch_normalization_3[0][0]      \n",
      "__________________________________________________________________________________________________\n",
      "conv2d_4 (Conv2D)               (None, 64, 64, 192)  663744      activation_3[0][0]               \n",
      "__________________________________________________________________________________________________\n",
      "batch_normalization_4 (BatchNor (None, 64, 64, 192)  768         conv2d_4[0][0]                   \n",
      "__________________________________________________________________________________________________\n",
      "activation_4 (Activation)       (None, 64, 64, 192)  0           batch_normalization_4[0][0]      \n",
      "__________________________________________________________________________________________________\n",
      "up_sampling2d_3 (UpSampling2D)  (None, 128, 128, 192 0           activation_4[0][0]               \n",
      "__________________________________________________________________________________________________\n",
      "concatenate_3 (Concatenate)     (None, 128, 128, 256 0           up_sampling2d_3[0][0]            \n",
      "                                                                 block1_pool[0][0]                \n",
      "__________________________________________________________________________________________________\n",
      "conv2d_5 (Conv2D)               (None, 128, 128, 256 590080      concatenate_3[0][0]              \n",
      "__________________________________________________________________________________________________\n",
      "batch_normalization_5 (BatchNor (None, 128, 128, 256 1024        conv2d_5[0][0]                   \n",
      "__________________________________________________________________________________________________\n",
      "activation_5 (Activation)       (None, 128, 128, 256 0           batch_normalization_5[0][0]      \n",
      "__________________________________________________________________________________________________\n",
      "conv2d_6 (Conv2D)               (None, 128, 128, 128 295040      activation_5[0][0]               \n",
      "__________________________________________________________________________________________________\n",
      "batch_normalization_6 (BatchNor (None, 128, 128, 128 512         conv2d_6[0][0]                   \n",
      "__________________________________________________________________________________________________\n",
      "activation_6 (Activation)       (None, 128, 128, 128 0           batch_normalization_6[0][0]      \n",
      "__________________________________________________________________________________________________\n",
      "up_sampling2d_4 (UpSampling2D)  (None, 256, 256, 128 0           activation_6[0][0]               \n",
      "__________________________________________________________________________________________________\n",
      "concatenate_4 (Concatenate)     (None, 256, 256, 192 0           up_sampling2d_4[0][0]            \n",
      "                                                                 block1_conv2[0][0]               \n",
      "__________________________________________________________________________________________________\n",
      "conv2d_7 (Conv2D)               (None, 256, 256, 128 221312      concatenate_4[0][0]              \n",
      "__________________________________________________________________________________________________\n",
      "batch_normalization_7 (BatchNor (None, 256, 256, 128 512         conv2d_7[0][0]                   \n",
      "__________________________________________________________________________________________________\n",
      "activation_7 (Activation)       (None, 256, 256, 128 0           batch_normalization_7[0][0]      \n",
      "__________________________________________________________________________________________________\n",
      "conv2d_8 (Conv2D)               (None, 256, 256, 64) 73792       activation_7[0][0]               \n",
      "__________________________________________________________________________________________________\n",
      "batch_normalization_8 (BatchNor (None, 256, 256, 64) 256         conv2d_8[0][0]                   \n",
      "__________________________________________________________________________________________________\n",
      "activation_8 (Activation)       (None, 256, 256, 64) 0           batch_normalization_8[0][0]      \n",
      "__________________________________________________________________________________________________\n",
      "conv2d_9 (Conv2D)               (None, 256, 256, 1)  65          activation_8[0][0]               \n",
      "__________________________________________________________________________________________________\n",
      "activation_9 (Activation)       (None, 256, 256, 1)  0           conv2d_9[0][0]                   \n",
      "==================================================================================================\n",
      "Total params: 15,533,825\n",
      "Trainable params: 7,894,721\n",
      "Non-trainable params: 7,639,104\n",
      "__________________________________________________________________________________________________\n"
     ]
    }
   ],
   "source": [
    "unet.summary()"
   ]
  },
  {
   "cell_type": "code",
   "execution_count": 35,
   "metadata": {},
   "outputs": [],
   "source": [
    "unet.compile(optimizer=optimizers.Adam(lr=1e-5), loss='binary_crossentropy', metrics=['accuracy'])"
   ]
  },
  {
   "cell_type": "code",
   "execution_count": 36,
   "metadata": {},
   "outputs": [
    {
     "name": "stdout",
     "output_type": "stream",
     "text": [
      "Epoch 1/20\n",
      "23/23 [==============================] - 11s 483ms/step - loss: 0.2168 - acc: 0.9261 - val_loss: 0.2399 - val_acc: 0.9149\n",
      "Epoch 2/20\n",
      "23/23 [==============================] - 8s 335ms/step - loss: 0.2269 - acc: 0.9217 - val_loss: 0.2421 - val_acc: 0.9151\n",
      "Epoch 3/20\n",
      "23/23 [==============================] - 8s 349ms/step - loss: 0.2269 - acc: 0.9224 - val_loss: 0.2499 - val_acc: 0.9153\n",
      "Epoch 4/20\n",
      "23/23 [==============================] - 8s 348ms/step - loss: 0.2290 - acc: 0.9208 - val_loss: 0.2426 - val_acc: 0.9155\n",
      "Epoch 5/20\n",
      "23/23 [==============================] - 8s 351ms/step - loss: 0.2116 - acc: 0.9283 - val_loss: 0.2463 - val_acc: 0.9159\n",
      "Epoch 6/20\n",
      "23/23 [==============================] - 8s 343ms/step - loss: 0.2196 - acc: 0.9247 - val_loss: 0.2439 - val_acc: 0.9163\n",
      "Epoch 7/20\n",
      "23/23 [==============================] - 8s 351ms/step - loss: 0.2126 - acc: 0.9277 - val_loss: 0.2710 - val_acc: 0.9104\n",
      "Epoch 8/20\n",
      "23/23 [==============================] - 8s 349ms/step - loss: 0.2180 - acc: 0.9258 - val_loss: 0.2501 - val_acc: 0.9157\n",
      "Epoch 9/20\n",
      "23/23 [==============================] - 8s 346ms/step - loss: 0.2264 - acc: 0.9224 - val_loss: 0.2438 - val_acc: 0.9163\n",
      "Epoch 10/20\n",
      "23/23 [==============================] - 8s 356ms/step - loss: 0.2211 - acc: 0.9236 - val_loss: 0.2449 - val_acc: 0.9162\n",
      "Epoch 11/20\n",
      "23/23 [==============================] - 8s 349ms/step - loss: 0.2057 - acc: 0.9309 - val_loss: 0.2588 - val_acc: 0.9137\n",
      "Epoch 12/20\n",
      "23/23 [==============================] - 8s 346ms/step - loss: 0.2076 - acc: 0.9289 - val_loss: 0.2619 - val_acc: 0.9133\n",
      "Epoch 13/20\n",
      "23/23 [==============================] - 8s 342ms/step - loss: 0.2110 - acc: 0.9276 - val_loss: 0.2695 - val_acc: 0.9111\n",
      "Epoch 14/20\n",
      "23/23 [==============================] - 8s 354ms/step - loss: 0.2171 - acc: 0.9256 - val_loss: 0.2614 - val_acc: 0.9134\n",
      "Epoch 15/20\n",
      "23/23 [==============================] - 8s 347ms/step - loss: 0.2068 - acc: 0.9296 - val_loss: 0.2675 - val_acc: 0.9119\n",
      "Epoch 16/20\n",
      "23/23 [==============================] - 8s 348ms/step - loss: 0.2088 - acc: 0.9293 - val_loss: 0.2802 - val_acc: 0.9080\n",
      "Epoch 17/20\n",
      "23/23 [==============================] - 8s 345ms/step - loss: 0.2183 - acc: 0.9235 - val_loss: 0.2582 - val_acc: 0.9144\n",
      "Epoch 18/20\n",
      "23/23 [==============================] - 8s 349ms/step - loss: 0.2039 - acc: 0.9299 - val_loss: 0.2643 - val_acc: 0.9126\n",
      "Epoch 19/20\n",
      "23/23 [==============================] - 8s 348ms/step - loss: 0.2067 - acc: 0.9293 - val_loss: 0.2469 - val_acc: 0.9164\n",
      "Epoch 20/20\n",
      "23/23 [==============================] - 8s 352ms/step - loss: 0.2025 - acc: 0.9306 - val_loss: 0.2483 - val_acc: 0.9161\n"
     ]
    },
    {
     "data": {
      "text/plain": [
       "<keras.callbacks.History at 0x7fe98c253b70>"
      ]
     },
     "execution_count": 36,
     "metadata": {},
     "output_type": "execute_result"
    }
   ],
   "source": [
    "unet.fit_generator(data_gen(dloaders['train']), steps_per_epoch=len(dloaders['train']),\n",
    "                   validation_data=data_gen(dloaders['val']), validation_steps=len(dloaders['val']),\n",
    "                   epochs=20,\n",
    "                  )"
   ]
  },
  {
   "cell_type": "code",
   "execution_count": 111,
   "metadata": {},
   "outputs": [],
   "source": [
    "# unet.save('checkpoints/unet_dlituiev_2019-05-17.h5')"
   ]
  },
  {
   "cell_type": "code",
   "execution_count": 37,
   "metadata": {},
   "outputs": [],
   "source": [
    "val_predicted = unet.predict_generator(data_gen(dloaders['val']), steps=len(dloaders['val']),)"
   ]
  },
  {
   "cell_type": "code",
   "execution_count": 41,
   "metadata": {},
   "outputs": [],
   "source": [
    "test_predicted = unet.predict_generator(data_gen(dloaders['test']), steps=len(dloaders['test']),)"
   ]
  },
  {
   "cell_type": "code",
   "execution_count": 102,
   "metadata": {},
   "outputs": [
    {
     "data": {
      "text/plain": [
       "Int64Index([ 1809,  2833,  2833, 10001, 10001, 11025, 11025, 12049, 12049,\n",
       "            12049, 14346, 15370, 16145, 16394, 17169, 17169, 17169, 17418,\n",
       "            17418, 18193, 18193, 18442, 18442, 18442, 19466, 19466, 20490,\n",
       "            21265, 21265, 21514, 21514, 22289, 22289, 22538, 23313, 23313,\n",
       "            23562, 24337, 25361, 25361, 25361, 26385, 26385, 27658, 27658,\n",
       "            28682, 28682, 33553, 34577, 36874, 40721, 40721, 41745, 41745,\n",
       "            41745, 42769, 42769, 42769, 44042, 44042, 45066, 45066, 45066,\n",
       "            45066, 45841, 46865, 46865, 46865, 47889, 49937, 49937, 50961,\n",
       "            50961, 51985, 54033, 54033, 54033, 55057, 55057, 55057, 55057,\n",
       "            56081, 56081, 56081, 56081, 57105, 57105, 57105, 58129],\n",
       "           dtype='int64', name='x')"
      ]
     },
     "execution_count": 102,
     "metadata": {},
     "output_type": "execute_result"
    }
   ],
   "source": [
    "dloaders['test'].dataset.filenames.loc['f7f931a5cf3185a385e9aa34e6e9a566fc88000c', :].index.get_level_values('x')#.index\n",
    "# dloaders['test'].dataset.filenames"
   ]
  },
  {
   "cell_type": "code",
   "execution_count": 90,
   "metadata": {},
   "outputs": [
    {
     "data": {
      "text/plain": [
       "155"
      ]
     },
     "execution_count": 90,
     "metadata": {},
     "output_type": "execute_result"
    }
   ],
   "source": [
    "index_test = dloaders['test'].dataset.filenames.index.to_frame().reset_index(drop=True)\n",
    "# index_test = [x.tolist() for _, x in index_test.iterrows()]\n",
    "('c886827fe8c10b4699a0f1616331e36b46a05617', 44677, 6426)\n",
    "len(index_test)"
   ]
  },
  {
   "cell_type": "code",
   "execution_count": 80,
   "metadata": {},
   "outputs": [
    {
     "data": {
      "text/plain": [
       "array(['70bb3032750d09e7549928c0dbf79afc30d7cb68',\n",
       "       'a1fc67fbb21f43b9e8904b9b46bd94f83493b37a',\n",
       "       'c886827fe8c10b4699a0f1616331e36b46a05617',\n",
       "       'dfe3ee768f72bddd289c7d5bb88b15cbb89be7e6',\n",
       "       'f7f931a5cf3185a385e9aa34e6e9a566fc88000c'], dtype=object)"
      ]
     },
     "execution_count": 80,
     "metadata": {},
     "output_type": "execute_result"
    }
   ],
   "source": [
    "index_test.slide_id.unique()"
   ]
  },
  {
   "cell_type": "code",
   "execution_count": 107,
   "metadata": {},
   "outputs": [
    {
     "data": {
      "text/plain": [
       "(array([118, 119, 120]),)"
      ]
     },
     "execution_count": 107,
     "metadata": {},
     "output_type": "execute_result"
    }
   ],
   "source": [
    "np.where((index_test.slide_id == 'c886827fe8c10b4699a0f1616331e36b46a05617') &\\\n",
    "            (index_test.x == 44677) & \\\n",
    "            (index_test.y == 6426)\n",
    "        )\n",
    "\n",
    "np.where((index_test.slide_id == 'f7f931a5cf3185a385e9aa34e6e9a566fc88000c') &\\\n",
    "            (index_test.x == 41745) #& \\\n",
    "#             (index_test.y == 20967)\n",
    "        )"
   ]
  },
  {
   "cell_type": "code",
   "execution_count": 75,
   "metadata": {},
   "outputs": [],
   "source": [
    "# [tuple(x) for x in index_test.values]\n",
    "# index_test"
   ]
  }
 ],
 "metadata": {
  "kernelspec": {
   "display_name": "py3.7: digipath",
   "language": "python",
   "name": "digipath"
  },
  "language_info": {
   "codemirror_mode": {
    "name": "ipython",
    "version": 3
   },
   "file_extension": ".py",
   "mimetype": "text/x-python",
   "name": "python",
   "nbconvert_exporter": "python",
   "pygments_lexer": "ipython3",
   "version": "3.7.3"
  }
 },
 "nbformat": 4,
 "nbformat_minor": 2
}
