{
 "cells": [
  {
   "cell_type": "code",
   "execution_count": 1,
   "metadata": {},
   "outputs": [],
   "source": [
    "import pandas as pd\n",
    "import numpy as np\n",
    "\n",
    "from sklearn import metrics as mtx\n",
    "\n",
    "import matplotlib.pyplot as plt\n",
    "import seaborn as sns\n",
    "from pylab import cm\n",
    "%matplotlib inline"
   ]
  },
  {
   "cell_type": "code",
   "execution_count": 2,
   "metadata": {},
   "outputs": [],
   "source": [
    "dir_kidney = '/data/kidney/'\n",
    "meta = pd.read_csv(f'{dir_kidney}/tables/splits-2019-03-24.csv', index_col=0)\n",
    "\n",
    "slide_ids = {}\n",
    "for kk in meta.set.unique():\n",
    "    slide_ids[kk] = meta[meta.set==kk].index.tolist()"
   ]
  },
  {
   "cell_type": "code",
   "execution_count": 3,
   "metadata": {},
   "outputs": [
    {
     "data": {
      "text/plain": [
       "['70bb3032750d09e7549928c0dbf79afc30d7cb68',\n",
       " 'a1fc67fbb21f43b9e8904b9b46bd94f83493b37a',\n",
       " 'c886827fe8c10b4699a0f1616331e36b46a05617',\n",
       " 'dfe3ee768f72bddd289c7d5bb88b15cbb89be7e6',\n",
       " 'f7f931a5cf3185a385e9aa34e6e9a566fc88000c',\n",
       " 'c7234341626ed41fc7be77217cfd5ca3bc712b0d',\n",
       " '8900c7cede2699f23357346a5f12cd8087538032',\n",
       " '1006231850a8e1b2f2529d37de7d0bdc56609d1b',\n",
       " '93aca82fd3c77234f58c9d71b7d726834fc6528c',\n",
       " '9bbfc43088eed7ef710f5260eac5d77dcb160a28']"
      ]
     },
     "execution_count": 3,
     "metadata": {},
     "output_type": "execute_result"
    }
   ],
   "source": [
    "slide_ids['test']"
   ]
  },
  {
   "cell_type": "code",
   "execution_count": 4,
   "metadata": {},
   "outputs": [
    {
     "data": {
      "text/plain": [
       "lymphoid              21\n",
       "norm                 158\n",
       "set                 test\n",
       "pos_fraction    0.117318\n",
       "Name: c886827fe8c10b4699a0f1616331e36b46a05617, dtype: object"
      ]
     },
     "execution_count": 4,
     "metadata": {},
     "output_type": "execute_result"
    }
   ],
   "source": [
    "meta.loc['c886827fe8c10b4699a0f1616331e36b46a05617']"
   ]
  },
  {
   "cell_type": "code",
   "execution_count": 5,
   "metadata": {},
   "outputs": [],
   "source": [
    "import rpy2\n",
    "%load_ext rpy2.ipython"
   ]
  },
  {
   "cell_type": "code",
   "execution_count": 6,
   "metadata": {},
   "outputs": [
    {
     "data": {
      "text/plain": [
       "100623    7489\n",
       "8900c7    5321\n",
       "f7f931    5249\n",
       "c72343    4871\n",
       "93aca8    3285\n",
       "c88682    2920\n",
       "70bb30    2842\n",
       "9bbfc4    2706\n",
       "dfe3ee    2125\n",
       "a1fc67    2112\n",
       "Name: slide_id_6, dtype: int64"
      ]
     },
     "execution_count": 6,
     "metadata": {},
     "output_type": "execute_result"
    }
   ],
   "source": [
    "set_ = 'test'\n",
    "# set_ = 'val'\n",
    "tabs_segm = {}\n",
    "for kk in slide_ids[set_]:\n",
    "    fn_segm = f'./results/vgg16_unet/{kk}-segmentation.csv'\n",
    "#     fn_pred = f'{dirname}/{kk}-predictions.csv'\n",
    "#     print(fn_segm)\n",
    "    try:\n",
    "        tabs_segm[kk] = pd.read_csv(fn_segm, index_col=0)\n",
    "#         tabs_segm[kk]['logit'] = pd.read_csv(fn_pred, index_col=0).mean(1).tolist()\n",
    "#         tabs_classif[kk]['slide_id'] = kk\n",
    "    except Exception as ee:\n",
    "        print(ee)\n",
    "        \n",
    "tabs_segm = pd.concat(tabs_segm, sort=False).rename(columns={'prediction':'segm_score'})\n",
    "tabs_segm.index = tabs_segm.index.get_level_values(0)\n",
    "tabs_segm.index.name = 'slide_id'\n",
    "tabs_segm.reset_index(inplace=True)\n",
    "tabs_segm['slide_id_6'] = tabs_segm['slide_id'].str[:6]\n",
    "tabs_segm['slide_id_6'].value_counts()"
   ]
  },
  {
   "cell_type": "code",
   "execution_count": 7,
   "metadata": {},
   "outputs": [
    {
     "name": "stdout",
     "output_type": "stream",
     "text": [
      "1006231850a8e1b2f2529d37de7d0bdc56609d1b 929 80\n",
      "70bb3032750d09e7549928c0dbf79afc30d7cb68 632 306\n",
      "8900c7cede2699f23357346a5f12cd8087538032 996 486\n",
      "93aca82fd3c77234f58c9d71b7d726834fc6528c 377 460\n",
      "9bbfc43088eed7ef710f5260eac5d77dcb160a28 182 376\n",
      "a1fc67fbb21f43b9e8904b9b46bd94f83493b37a 869 649\n",
      "c7234341626ed41fc7be77217cfd5ca3bc712b0d 774 417\n",
      "c886827fe8c10b4699a0f1616331e36b46a05617 901 26\n",
      "dfe3ee768f72bddd289c7d5bb88b15cbb89be7e6 796 922\n",
      "f7f931a5cf3185a385e9aa34e6e9a566fc88000c 273 231\n"
     ]
    }
   ],
   "source": [
    "tabs_segm_iid = {}\n",
    "for kk, vv in tabs_segm.groupby('slide_id'):\n",
    "    y_offset = (vv.y%1024).value_counts().index[0]\n",
    "    x_offset = (vv.x%1024).value_counts().index[0]\n",
    "    print(kk, x_offset, y_offset)\n",
    "    tabs_segm_iid[kk] = vv[((vv.x%1024) == x_offset) & ((vv.y%1024) == y_offset)]\n",
    "    \n",
    "tabs_segm_iid = pd.concat(tabs_segm_iid.values()).reset_index()"
   ]
  },
  {
   "cell_type": "code",
   "execution_count": null,
   "metadata": {},
   "outputs": [],
   "source": []
  },
  {
   "cell_type": "code",
   "execution_count": 8,
   "metadata": {},
   "outputs": [
    {
     "name": "stdout",
     "output_type": "stream",
     "text": [
      "segm_test_scatter.png\n"
     ]
    },
    {
     "data": {
      "image/png": "[encoded data removed]",
      "text/plain": [
       "<Figure size 432x432 with 1 Axes>"
      ]
     },
     "metadata": {
      "needs_background": "light"
     },
     "output_type": "display_data"
    }
   ],
   "source": [
    "fig, ax = plt.subplots(1, figsize=(6,6))\n",
    "tabs_segm_iid.plot(x='segm_score', y='observed', alpha=0.3,\n",
    "               kind='scatter', c='r', ax=ax)\n",
    "ax.plot([0,1],[0,1], 'g--')\n",
    "\n",
    "ax.set_ylabel('observed fraction')\n",
    "ax.set_xlabel('segmented fraction')\n",
    "\n",
    "fnfig = f'segm_{set_}_scatter.png'\n",
    "print(fnfig)\n",
    "fig.savefig(fnfig, dpi=300)\n",
    "pass"
   ]
  },
  {
   "cell_type": "code",
   "execution_count": 9,
   "metadata": {},
   "outputs": [],
   "source": [
    "from scipy import stats"
   ]
  },
  {
   "cell_type": "code",
   "execution_count": 10,
   "metadata": {
    "scrolled": false
   },
   "outputs": [
    {
     "name": "stderr",
     "output_type": "stream",
     "text": [
      "/home/exx/.conda/envs/digipath/lib/python3.7/site-packages/seaborn/axisgrid.py:1847: UserWarning: JointGrid annotation is deprecated and will be removed in a future release.\n",
      "  warnings.warn(UserWarning(msg))\n"
     ]
    },
    {
     "data": {
      "image/png": "[encoded data removed]",
      "text/plain": [
       "<Figure size 432x432 with 3 Axes>"
      ]
     },
     "metadata": {
      "needs_background": "light"
     },
     "output_type": "display_data"
    }
   ],
   "source": [
    "jpl = sns.jointplot(x='segm_score', y='observed', \n",
    "                    data=tabs_segm_iid, #alpha=0.3,\n",
    "                    kind=\"hex\", bins='log',\n",
    "                    stat_func=stats.pearsonr,\n",
    "                    cmap='gray_r',\n",
    "                    marginal_kws=dict(color='k'),\n",
    "                   )\n",
    "jpl.ax_marg_x.set_yscale('log')\n",
    "jpl.ax_marg_y.set_xscale('log')\n",
    "ax = jpl.ax_joint\n",
    "ax.set_ylabel('observed fraction')\n",
    "ax.set_xlabel('segmented fraction')\n",
    "jpl.fig.savefig('segm_{set_}_hex_logdensity.png', dpi=300)"
   ]
  },
  {
   "cell_type": "code",
   "execution_count": 11,
   "metadata": {},
   "outputs": [],
   "source": [
    "# tabs_segm[tabs_segm['slide_id_6'] == 'c88682'].plot(x='segm_score', y='observed', alpha=0.3,\n",
    "#                kind='scatter', c='r')\n",
    "# # tabs_segm = pd.concat(tabs_segm)\n",
    "# # tabs_segm[~tabs_segm['logit'].isnull()].shape\n",
    "# # fn_meta = '/data/kidney/src/sung/kidney/results/a1fc67fbb21f43b9e8904b9b46bd94f83493b37a-segmentation.csv'\n",
    "# # pd.read_csv(fn_meta, index_col=0)"
   ]
  },
  {
   "cell_type": "code",
   "execution_count": 12,
   "metadata": {},
   "outputs": [],
   "source": [
    "# pd.read_csv(fn_pred, index_col=0)#.mean(1).shape"
   ]
  },
  {
   "cell_type": "code",
   "execution_count": 13,
   "metadata": {},
   "outputs": [
    {
     "data": {
      "text/plain": [
       "array(['100623', '70bb30', '8900c7', '93aca8', '9bbfc4', 'a1fc67',\n",
       "       'c72343', 'c88682', 'dfe3ee', 'f7f931'], dtype=object)"
      ]
     },
     "execution_count": 13,
     "metadata": {},
     "output_type": "execute_result"
    }
   ],
   "source": [
    "tabs_segm.slide_id_6.unique()"
   ]
  },
  {
   "cell_type": "code",
   "execution_count": 14,
   "metadata": {},
   "outputs": [
    {
     "data": {
      "text/plain": [
       "slide_id_6\n",
       "100623      0.000000\n",
       "70bb30    130.136612\n",
       "8900c7      0.000000\n",
       "93aca8      0.000000\n",
       "9bbfc4      0.000000\n",
       "a1fc67     36.074173\n",
       "c72343      0.000000\n",
       "c88682    116.984238\n",
       "dfe3ee     82.694763\n",
       "f7f931    453.425171\n",
       "Name: observed, dtype: float64"
      ]
     },
     "execution_count": 14,
     "metadata": {},
     "output_type": "execute_result"
    }
   ],
   "source": [
    "tabs_segm.groupby('slide_id_6')['observed'].sum()"
   ]
  },
  {
   "cell_type": "code",
   "execution_count": 15,
   "metadata": {},
   "outputs": [],
   "source": [
    "pearson_rs = {}\n",
    "for kk,vv in tabs_segm_iid.groupby('slide_id_6'):\n",
    "    pearson_rs[kk] = vv[['segm_score', 'observed']].corr().loc['segm_score', 'observed']\n",
    "pearson_rs = pd.Series(pearson_rs)"
   ]
  },
  {
   "cell_type": "code",
   "execution_count": 16,
   "metadata": {},
   "outputs": [
    {
     "data": {
      "text/plain": [
       "'0.9624+/-0.0209'"
      ]
     },
     "execution_count": 16,
     "metadata": {},
     "output_type": "execute_result"
    }
   ],
   "source": [
    "'{:.4f}+/-{:.4f}'.format(pearson_rs.mean(), pearson_rs.std()/ np.sqrt(sum(~pearson_rs.isnull())))"
   ]
  },
  {
   "cell_type": "code",
   "execution_count": 17,
   "metadata": {},
   "outputs": [],
   "source": [
    "# !curl -O https://gist.githubusercontent.com/kdauria/524eade46135f6348140/raw/b4103972a4ba3ddb3141830f57c3e6ac98fa273c/ggplot_smooth_func.R"
   ]
  },
  {
   "cell_type": "code",
   "execution_count": 18,
   "metadata": {},
   "outputs": [
    {
     "name": "stderr",
     "output_type": "stream",
     "text": [
      "R[write to console]: \n",
      "Attaching package: ‘dplyr’\n",
      "\n",
      "\n",
      "R[write to console]: The following objects are masked from ‘package:stats’:\n",
      "\n",
      "    filter, lag\n",
      "\n",
      "\n",
      "R[write to console]: The following objects are masked from ‘package:base’:\n",
      "\n",
      "    intersect, setdiff, setequal, union\n",
      "\n",
      "\n"
     ]
    },
    {
     "data": {
      "text/plain": [
       " [1] \"f7f931\" \"c88682\" \"dfe3ee\" \"70bb30\" \"a1fc67\" \"100623\" \"8900c7\" \"93aca8\"\n",
       " [9] \"9bbfc4\" \"c72343\"\n",
       "[1] \"test_segmentation_scatter_iid.png\"\n"
      ]
     },
     "metadata": {},
     "output_type": "display_data"
    }
   ],
   "source": [
    "%%R -i tabs_segm_iid -i set_\n",
    "library(ggplot2)\n",
    "library(repr)\n",
    "library(dplyr)\n",
    "# library(devtools)\n",
    "\n",
    "# source_gist(\"524eade46135f6348140\")\n",
    "source('ggplot_smooth_func.R')\n",
    "\n",
    "ordering = (tabs_segm_iid %>% group_by(slide_id_6) %>% \n",
    "            summarise(n = sum(observed>0)) %>%\n",
    "            arrange(desc(n)))$slide_id_6\n",
    "print(ordering)\n",
    "\n",
    "tabs_segm_iid$slide_id_6 = factor(tabs_segm_iid$slide_id_6, ordering)\n",
    "\n",
    "# if (set_=='test'){\n",
    "#     tabs_segm$slide_id_6 = factor(tabs_segm$slide_id_6,  \n",
    "#                                   c('70bb30', 'a1fc67', 'c88682', 'dfe3ee', 'f7f931',\n",
    "#                                    '100623','c72343',  '8900c7', '93aca8', '9bbfc4')\n",
    "#                              )\n",
    "# }\n",
    "\n",
    "# options(repr.plot.width=15, repr.plot.height=8)\n",
    "\n",
    "ggplot(tabs_segm_iid, aes(x=segm_score, y=observed,)) +\n",
    "  stat_smooth_func(geom=\"text\",method=\"lm\",hjust=0,parse=TRUE,\n",
    "                   method.args = list(only_r2=TRUE), xpos=0.7, ypos=0.2) +\n",
    "  geom_smooth(method=\"lm\",se=FALSE) +\n",
    "    geom_point(alpha=0.3) + facet_wrap(.~slide_id_6, nrow=2) + coord_fixed()\n",
    "\n",
    "fnfig = paste0(set_, '_segmentation_scatter_iid.png')\n",
    "print(fnfig)\n",
    "ggsave(fnfig, height = 7, width = 15, dpi=300)"
   ]
  },
  {
   "cell_type": "code",
   "execution_count": 20,
   "metadata": {},
   "outputs": [],
   "source": [
    "# !ls -lh *png\n",
    "# !mv _segmentation_scatter.png segmentation_scatter.png\n",
    "set_ = 'test'"
   ]
  },
  {
   "cell_type": "code",
   "execution_count": 21,
   "metadata": {
    "scrolled": false
   },
   "outputs": [
    {
     "name": "stdout",
     "output_type": "stream",
     "text": [
      "test\n"
     ]
    },
    {
     "data": {
      "text/html": [
       "<img src=\"test_segmentation_scatter_iid.png\" alt=\"Schema of adaptive filter\" height=\"100\">"
      ],
      "text/plain": [
       "<IPython.core.display.HTML object>"
      ]
     },
     "metadata": {},
     "output_type": "display_data"
    }
   ],
   "source": [
    "#  ![s]()\n",
    "fn = set_ + '_segmentation_scatter_iid.png'\n",
    "print(set_)\n",
    "\n",
    "from IPython.display import HTML, display\n",
    "display(HTML(f'<img src=\"{fn}\" ' +\n",
    "             'alt=\"Schema of adaptive filter\" ' +\n",
    "             'height=\"100\">'))"
   ]
  },
  {
   "cell_type": "code",
   "execution_count": 22,
   "metadata": {},
   "outputs": [],
   "source": [
    "fn_segm = '/data/kidney/src/sung/kidney/results/1613eab8267591c8aad6db6c18308c970bdb0229-segmentation.csv'\n",
    "dfsegm_summary = pd.read_csv(fn_segm, index_col=0)"
   ]
  },
  {
   "cell_type": "code",
   "execution_count": 23,
   "metadata": {},
   "outputs": [
    {
     "data": {
      "text/html": [
       "<div>\n",
       "<style scoped>\n",
       "    .dataframe tbody tr th:only-of-type {\n",
       "        vertical-align: middle;\n",
       "    }\n",
       "\n",
       "    .dataframe tbody tr th {\n",
       "        vertical-align: top;\n",
       "    }\n",
       "\n",
       "    .dataframe thead th {\n",
       "        text-align: right;\n",
       "    }\n",
       "</style>\n",
       "<table border=\"1\" class=\"dataframe\">\n",
       "  <thead>\n",
       "    <tr style=\"text-align: right;\">\n",
       "      <th></th>\n",
       "      <th>chunk_id</th>\n",
       "      <th>label</th>\n",
       "      <th>prediction</th>\n",
       "      <th>observed</th>\n",
       "      <th>x</th>\n",
       "      <th>y</th>\n",
       "      <th>tissue_id</th>\n",
       "    </tr>\n",
       "  </thead>\n",
       "  <tbody>\n",
       "    <tr>\n",
       "      <th>0</th>\n",
       "      <td>0</td>\n",
       "      <td>0.0</td>\n",
       "      <td>0.0</td>\n",
       "      <td>0.0</td>\n",
       "      <td>19251</td>\n",
       "      <td>8762</td>\n",
       "      <td>5</td>\n",
       "    </tr>\n",
       "    <tr>\n",
       "      <th>1</th>\n",
       "      <td>1</td>\n",
       "      <td>0.0</td>\n",
       "      <td>0.0</td>\n",
       "      <td>0.0</td>\n",
       "      <td>18995</td>\n",
       "      <td>9018</td>\n",
       "      <td>5</td>\n",
       "    </tr>\n",
       "    <tr>\n",
       "      <th>2</th>\n",
       "      <td>2</td>\n",
       "      <td>0.0</td>\n",
       "      <td>0.0</td>\n",
       "      <td>0.0</td>\n",
       "      <td>19251</td>\n",
       "      <td>9018</td>\n",
       "      <td>5</td>\n",
       "    </tr>\n",
       "    <tr>\n",
       "      <th>3</th>\n",
       "      <td>3</td>\n",
       "      <td>0.0</td>\n",
       "      <td>0.0</td>\n",
       "      <td>0.0</td>\n",
       "      <td>19507</td>\n",
       "      <td>9018</td>\n",
       "      <td>5</td>\n",
       "    </tr>\n",
       "    <tr>\n",
       "      <th>4</th>\n",
       "      <td>4</td>\n",
       "      <td>0.0</td>\n",
       "      <td>0.0</td>\n",
       "      <td>0.0</td>\n",
       "      <td>18995</td>\n",
       "      <td>9274</td>\n",
       "      <td>5</td>\n",
       "    </tr>\n",
       "  </tbody>\n",
       "</table>\n",
       "</div>"
      ],
      "text/plain": [
       "   chunk_id  label  prediction  observed      x     y  tissue_id\n",
       "0         0    0.0         0.0       0.0  19251  8762          5\n",
       "1         1    0.0         0.0       0.0  18995  9018          5\n",
       "2         2    0.0         0.0       0.0  19251  9018          5\n",
       "3         3    0.0         0.0       0.0  19507  9018          5\n",
       "4         4    0.0         0.0       0.0  18995  9274          5"
      ]
     },
     "execution_count": 23,
     "metadata": {},
     "output_type": "execute_result"
    }
   ],
   "source": [
    "dfsegm_summary.head()"
   ]
  },
  {
   "cell_type": "code",
   "execution_count": null,
   "metadata": {},
   "outputs": [],
   "source": [
    "cmap = "
   ]
  },
  {
   "cell_type": "code",
   "execution_count": 24,
   "metadata": {},
   "outputs": [
    {
     "ename": "NameError",
     "evalue": "name 'cmap' is not defined",
     "output_type": "error",
     "traceback": [
      "\u001b[0;31m---------------------------------------------------------------------------\u001b[0m",
      "\u001b[0;31mNameError\u001b[0m                                 Traceback (most recent call last)",
      "\u001b[0;32m<ipython-input-24-62d4758ad712>\u001b[0m in \u001b[0;36m<module>\u001b[0;34m\u001b[0m\n\u001b[1;32m      1\u001b[0m plt.scatter(dfsegm_summary.x, dfsegm_summary.y, c=dfsegm_summary.prediction, \n\u001b[0;32m----> 2\u001b[0;31m             cmap=cmap, vmin=0, vmax=1)\n\u001b[0m",
      "\u001b[0;31mNameError\u001b[0m: name 'cmap' is not defined"
     ]
    }
   ],
   "source": [
    "plt.scatter(dfsegm_summary.x, dfsegm_summary.y, c=dfsegm_summary.prediction, \n",
    "            cmap=cmap, vmin=0, vmax=1)"
   ]
  },
  {
   "cell_type": "code",
   "execution_count": null,
   "metadata": {},
   "outputs": [],
   "source": [
    "plt.scatter(dfsegm_summary.x, dfsegm_summary.y, c=dfsegm_summary.observed, \n",
    "            cmap=cmap, vmin=0, vmax=1)"
   ]
  },
  {
   "cell_type": "code",
   "execution_count": null,
   "metadata": {},
   "outputs": [],
   "source": [
    "!/data/kidney/data/raw/*png"
   ]
  },
  {
   "cell_type": "code",
   "execution_count": null,
   "metadata": {},
   "outputs": [],
   "source": [
    "from PIL import Image\n",
    "from slideslicer import RoiReader"
   ]
  },
  {
   "cell_type": "code",
   "execution_count": null,
   "metadata": {},
   "outputs": [],
   "source": []
  },
  {
   "cell_type": "code",
   "execution_count": null,
   "metadata": {},
   "outputs": [],
   "source": [
    "\n",
    "# fn_slide = f\"/data/kidney/data/raw/{id_}.svs\"\n",
    "# roi_reader = RoiReader(fn_slide, verbose=0, threshold_tissue=False, save=False)"
   ]
  },
  {
   "cell_type": "code",
   "execution_count": null,
   "metadata": {
    "scrolled": false
   },
   "outputs": [],
   "source": [
    "for kk,vv in tabs_segm.groupby('slide_id_6'):\n",
    "    id_ = vv['slide_id'].iloc[0]\n",
    "#     ! python /data/kidney/src/slideslicer/scripts/make_thumbnails.py /data/kidney/data/raw/{id_}.svs\n",
    "#     fn_img = f\"/data/kidney/data/raw/{id_}-thumbnail.png\"\n",
    "#     img = Image.open(fn_img)\n",
    "    fig, axs = plt.subplots(1,3, figsize=(15,4), sharey=True, sharex=True)\n",
    "    fig.suptitle(f'slide {kk}')\n",
    "    \n",
    "    fn_slide = f\"/data/kidney/data/raw/{id_}.svs\"\n",
    "    roi_reader = RoiReader(fn_slide, verbose=0, threshold_tissue=False, save=False)\n",
    "    ax_img = axs[0]\n",
    "    roi_reader.plot(ax = ax_img, annotations=False)\n",
    "    \n",
    "    roi_reader.plot(ax = axs[1], annotations=False)\n",
    "    axs[1].scatter(vv.x, vv.y, c=vv.observed, cmap=cmap, vmin=0, vmax=1, alpha=0.2)\n",
    "#     axs[1].axis('tight')\n",
    "#     axs[1].invert_yaxis()\n",
    "#     axs[1].set_ylim(ax_img.get_ylim())\n",
    "    roi_reader.plot(ax = axs[2], annotations=False)\n",
    "    axs[2].scatter(vv.x, vv.y, c=vv.segm_score, cmap=cmap, vmin=0, vmax=1, alpha=0.2)\n",
    "#     axs[2].invert_yaxis()\n",
    "#     axs[2].set_ylim(ax_img.get_ylim())\n",
    "#     axs[2].axis('tight')\n",
    "#     axs[2].imshow(img)\n",
    "\n",
    "    plt.show()\n",
    "#     break\n"
   ]
  },
  {
   "cell_type": "code",
   "execution_count": null,
   "metadata": {},
   "outputs": [],
   "source": [
    "# vv"
   ]
  },
  {
   "cell_type": "code",
   "execution_count": null,
   "metadata": {},
   "outputs": [],
   "source": [
    "plt.scatter(dfsegm_summary['prediction'],\n",
    "            dfsegm_summary['observed'], \n",
    "            alpha=0.5)\n",
    "\n",
    "plt.plot([0,1], [0, 1], 'k--')\n",
    "plt.title('fraction of LA')\n",
    "\n",
    "plt.xlabel('predicted')\n",
    "plt.ylabel('actual')\n",
    "# plt.xscale('log')\n",
    "# plt.yscale('log')"
   ]
  }
 ],
 "metadata": {
  "kernelspec": {
   "display_name": "py3.7: digipath",
   "language": "python",
   "name": "digipath"
  },
  "language_info": {
   "codemirror_mode": {
    "name": "ipython",
    "version": 3
   },
   "file_extension": ".py",
   "mimetype": "text/x-python",
   "name": "python",
   "nbconvert_exporter": "python",
   "pygments_lexer": "ipython3",
   "version": "3.7.3"
  }
 },
 "nbformat": 4,
 "nbformat_minor": 2
}
